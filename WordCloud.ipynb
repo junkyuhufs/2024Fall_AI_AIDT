{Want to see a panda up close? Time is running out. By early next
year, there won’t be any of the bears left in zoos in the United States.
They’re being sent back to China. For more than 50 years, the
2023. 11. 17. 오후 4:26
1페이지(총 6페이지)country has loaned pandas to American zoos as a token of
goodwill. But for now, that period is coming to an end.
“We are going to miss these bears so much,” Trish Jarvis told TIME
for Kids. She’s an animal keeper at the Smithsonian’s National Zoo,
in Washington, D.C. The zoo is sending its pandas back to China in
the coming weeks. “[Pandas] have been part of everyone’s lives for
over 50 years.”
ON THE SCENE TFK Kid Reporter Ben Stern meets with zookeeper
Trish Jarvis at the National Zoo in November
COURTESY BEN STERN
The China Wildlife and Conservation Association owns the bears. Its
2023. 11. 17. 오후 4:26
2페이지(총 6페이지)loan agreement with the Smithsonian expires in December. Some
observers say China may be taking its pandas back from the U.S.
because of disagreements between the countries’ governments
over issues such as trade and technology.
The National Zoo’s three pandas—Tian Tian, Mei Xiang, and th
  "nbformat": 4,
  "nbformat_minor": 0,
  "metadata": {
    "colab": {
      "provenance": [],
      "authorship_tag": "ABX9TyPjaVfTrjPjzMAARYNmva6n",
      "include_colab_link": true
    },
    "kernelspec": {
      "name": "python3",
      "display_name": "Python 3"
    },
    "language_info": {
      "name": "python"
    }
  },
  "cells": [
    {
      "cell_type": "markdown",
      "metadata": {
        "id": "view-in-github",
        "colab_type": "text"
      },
      "source": [
        "<a href=\"https://colab.research.google.com/github/junkyuhufs/2024Fall_AI_AIDT/blob/main/WordCloud.ipynb\" target=\"_parent\"><img src=\"https://colab.research.google.com/assets/colab-badge.svg\" alt=\"Open In Colab\"/></a>"
      ]
    },
    {
      "cell_type": "markdown",
      "source": [
        "#Topic: Generating a Wordcloud image"
      ],
      "metadata": {
        "id": "cpwMFSfZWl1o"
      }
    },
    {
      "cell_type": "markdown",
      "source": [
        "##Step 1: Prepare your text"
      ],
      "metadata": {
        "id": "QH9S9aqbWqTn"
      }
    },
    {
      "cell_type": "code",
      "execution_count": null,
      "metadata": {
        "id": "tQkM5i9yWLg0"
      },
      "outputs": [],
      "source": [
        "text = \"In the ever-evolving world of technology, the importance of digital literacy cannot be overstated. It is the cornerstone of modern education, enabling learners to navigate and thrive in a digital landscape. At the heart of this digital revolution is coding – a skill that has become essential in various fields. Python, known for its simplicity and versatility, stands out as a preferred language for beginners and experts alike. Teaching Python offers a unique opportunity to blend coding with language learning. This approach not only equips students with technical skills but also enhances their cognitive abilities, akin to learning a new spoken language. The process of learning Python, much like any language, involves understanding syntax, grammar, and vocabulary. However, it extends beyond mere language acquisition; it fosters logical thinking and problem-solving skills. Incorporating Python into educational curriculums revolutionizes the way we think about teaching and learning. It opens doors to innovative teaching methods, where instructors can blend traditional language teaching techniques with the interactive, engaging nature of coding. This synergy enhances digital literacy, preparing students for a future where technology is ubiquitous. Furthermore, language learning principles can be effectively applied to teaching Python. Techniques such as spaced repetition, immersive learning, and contextual usage are not only beneficial in acquiring new languages but are equally effective in mastering programming languages. By integrating these methodologies, educators can create a more holistic and engaging learning experience. In conclusion, the intersection of Python, coding, language learning, teaching, and digital literacy represents a significant shift in educational paradigms. It emphasizes the need for a comprehensive understanding of digital tools and languages, preparing learners for the challenges of a digital future.\""
      ]
    },
    {
      "cell_type": "markdown",
      "source": [
        "##Step 2: Run the following code\n",
        "Think about which parts you need to change or revise"
      ],
      "metadata": {
        "id": "jSRZn6CXWuDo"
      }
    },
    {
      "cell_type": "code",
      "source": [
        "from wordcloud import WordCloud\n",
        "import matplotlib.pyplot as plt\n",
        "\n",
        "# Generate word cloud\n",
        "wordcloud = WordCloud(width = 800, height = 600,\n",
        "                      background_color ='white',\n",
        "                      min_font_size = 10).generate(text)\n",
        "\n",
        "# Display the word cloud using matplotlib\n",
        "plt.imshow(wordcloud)\n",
        "plt.show()"
      ],
      "metadata": {
        "id": "GqnPuqT-WT9Q"
      },
      "execution_count": null,
      "outputs": []
    },
    {
      "cell_type": "markdown",
      "source": [
        "##(Modified) Margin, padding\n",
        "Padding in image generation refers to the process of adding extra pixels around the edges of an image."
      ],
      "metadata": {
        "id": "zATr6VTNW0dv"
      }
    },
    {
      "cell_type": "code",
      "source": [
        "from wordcloud import WordCloud\n",
        "import matplotlib.pyplot as plt\n",
        "\n",
        "# Generate word cloud\n",
        "wordcloud = WordCloud(width = 800, height = 600,\n",
        "                      background_color ='white',\n",
        "                      min_font_size = 10).generate(text)\n",
        "\n",
        "# Display the word cloud using matplotlib\n",
        "# plt.figure(figsize = (8, 4), facecolor = None)\n",
        "plt.imshow(wordcloud)\n",
        "plt.axis(\"off\")\n",
        "plt.tight_layout(pad = 2) # margine space\n",
        "\n",
        "plt.show()"
      ],
      "metadata": {
        "id": "I1Ra_RPbWZs4"
      },
      "execution_count": null,
      "outputs": []
    },
    {
      "cell_type": "markdown",
      "source": [
        "##(Modified 2) Font color to change\n",
        "Hexa color"
      ],
      "metadata": {
        "id": "SEI9l53vW3w3"
      }
    },
    {
      "cell_type": "code",
      "source": [
        "from wordcloud import WordCloud\n",
        "import matplotlib.pyplot as plt\n",
        "\n",
        "# Function to change the font colors\n",
        "def gradient_color_func(word, font_size, position, orientation, random_state=None, **kwargs):\n",
        "    shades_of_blue = [\"#c41454\", \"#32a879\", \"#32a879\", \"#c2c73a\", \"#351182\"]\n",
        "    return shades_of_blue[len(word) % len(shades_of_blue)]\n",
        "\n",
        "\n",
        "# Generate word cloud\n",
        "wordcloud = WordCloud(width = 800, height = 600,\n",
        "                      background_color ='white',\n",
        "                      min_font_size = 10,\n",
        "                      color_func=gradient_color_func  # Use the color function\n",
        "                     ).generate(text)\n",
        "\n",
        "# Display the word cloud using matplotlib\n",
        "plt.imshow(wordcloud)\n",
        "plt.axis(\"off\")\n",
        "plt.tight_layout(pad = 2)  # margin space\n",
        "\n",
        "plt.show()\n"
      ],
      "metadata": {
        "id": "b2ET1fkMWfzY"
      },
      "execution_count": null,
      "outputs": []
    }
  ]
}
